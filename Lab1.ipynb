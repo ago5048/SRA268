{
  "nbformat": 4,
  "nbformat_minor": 0,
  "metadata": {
    "colab": {
      "name": "Lab1.ipynb",
      "provenance": [],
      "authorship_tag": "ABX9TyN7RqwodnVgV6xVNEYadyvW",
      "include_colab_link": true
    },
    "kernelspec": {
      "name": "python3",
      "display_name": "Python 3"
    }
  },
  "cells": [
    {
      "cell_type": "markdown",
      "metadata": {
        "id": "view-in-github",
        "colab_type": "text"
      },
      "source": [
        "<a href=\"https://colab.research.google.com/github/ago5048/SRA268/blob/master/Lab1.ipynb\" target=\"_parent\"><img src=\"https://colab.research.google.com/assets/colab-badge.svg\" alt=\"Open In Colab\"/></a>"
      ]
    },
    {
      "cell_type": "markdown",
      "metadata": {
        "id": "QJu6ZGTV9lkp",
        "colab_type": "text"
      },
      "source": [
        "# Maximum temperatures during the month of January in 2017"
      ]
    },
    {
      "cell_type": "markdown",
      "metadata": {
        "id": "kpUB3DsK9ofA",
        "colab_type": "text"
      },
      "source": [
        "# Outline"
      ]
    },
    {
      "cell_type": "markdown",
      "metadata": {
        "id": "PWtR-o2I-hOT",
        "colab_type": "text"
      },
      "source": [
        "I am creating a graph of the maximum daily temperatures during the month of January in 2017. Typically, January experiences a large fluctuation of daily temperatures. Even though it is just the first week of school, we have already experienced a large range of maximum temperatures- on Monday it was a high of 54 whereas on Friday we experienced a high of 29 degrees Farhenheit. I am choosing to analyze the maximum temperatures of January in 2017 to see if there is a similar erratic trend 3 years ago. \n",
        "\n"
      ]
    },
    {
      "cell_type": "markdown",
      "metadata": {
        "id": "6MYo5Gie9suM",
        "colab_type": "text"
      },
      "source": [
        "# Sketch\n",
        "\n",
        "---\n",
        "\n"
      ]
    },
    {
      "cell_type": "markdown",
      "metadata": {
        "id": "T92_TigxARQl",
        "colab_type": "text"
      },
      "source": [
        "![Sketch of graph](https://raw.githubusercontent.com/ago5048/SRA268/master/images/lab1%20graph.png)"
      ]
    },
    {
      "cell_type": "markdown",
      "metadata": {
        "id": "Mea6RQZZ9uQx",
        "colab_type": "text"
      },
      "source": [
        "# Conclusions"
      ]
    },
    {
      "cell_type": "markdown",
      "metadata": {
        "id": "-osbsxr2ASoB",
        "colab_type": "text"
      },
      "source": [
        "Similar to the beginning of January this year, in 2017 there was a large fluctation in temperature. It went from being a high of 16 degrees Fahrenheit to 61 degrees. That change in temperature is very similar to the same temperatures that we saw this week in State College, but the opposite. We started warmer (upper 50s) and ended with wind chills around 10 degrees. It would be interesting to observe January over the course of many years and see if those trends remain the same. \n",
        "\n"
      ]
    }
  ]
}