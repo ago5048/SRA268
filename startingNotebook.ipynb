{
  "nbformat": 4,
  "nbformat_minor": 0,
  "metadata": {
    "colab": {
      "name": "startingNotebook.ipynb",
      "provenance": [],
      "toc_visible": true,
      "authorship_tag": "ABX9TyNDibuDXWMUeB8HtV1mzGq5",
      "include_colab_link": true
    },
    "kernelspec": {
      "name": "python3",
      "display_name": "Python 3"
    }
  },
  "cells": [
    {
      "cell_type": "markdown",
      "metadata": {
        "id": "view-in-github",
        "colab_type": "text"
      },
      "source": [
        "<a href=\"https://colab.research.google.com/github/ago5048/SRA268/blob/master/startingNotebook.ipynb\" target=\"_parent\"><img src=\"https://colab.research.google.com/assets/colab-badge.svg\" alt=\"Open In Colab\"/></a>"
      ]
    },
    {
      "cell_type": "code",
      "metadata": {
        "id": "hM4OVGTp4qvt",
        "colab_type": "code",
        "colab": {
          "base_uri": "https://localhost:8080/",
          "height": 35
        },
        "outputId": "d66d894a-7be7-424b-df34-98f19eeb6fe9"
      },
      "source": [
        "2+2"
      ],
      "execution_count": 1,
      "outputs": [
        {
          "output_type": "execute_result",
          "data": {
            "text/plain": [
              "4"
            ]
          },
          "metadata": {
            "tags": []
          },
          "execution_count": 1
        }
      ]
    },
    {
      "cell_type": "markdown",
      "metadata": {
        "id": "U52JXqFG5dfF",
        "colab_type": "text"
      },
      "source": [
        "# Abstract"
      ]
    },
    {
      "cell_type": "markdown",
      "metadata": {
        "id": "HWms1tFM5wNS",
        "colab_type": "text"
      },
      "source": [
        "something's in the abstract"
      ]
    },
    {
      "cell_type": "markdown",
      "metadata": {
        "id": "sHWLTOt3523_",
        "colab_type": "text"
      },
      "source": [
        "# introduction"
      ]
    },
    {
      "cell_type": "markdown",
      "metadata": {
        "id": "Pt493BSR55hr",
        "colab_type": "text"
      },
      "source": [
        "stuff in the intro"
      ]
    },
    {
      "cell_type": "markdown",
      "metadata": {
        "id": "8stXKc1Q6Znp",
        "colab_type": "text"
      },
      "source": [
        "![image of yellow](https://raw.githubusercontent.com/ago5048/SRA268/master/images/yellow.png)"
      ]
    }
  ]
}