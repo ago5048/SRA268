{
  "nbformat": 4,
  "nbformat_minor": 0,
  "metadata": {
    "colab": {
      "name": "Team Project 1.ipynb",
      "provenance": [],
      "collapsed_sections": [],
      "include_colab_link": true
    },
    "kernelspec": {
      "name": "python3",
      "display_name": "Python 3"
    }
  },
  "cells": [
    {
      "cell_type": "markdown",
      "metadata": {
        "id": "view-in-github",
        "colab_type": "text"
      },
      "source": [
        "<a href=\"https://colab.research.google.com/github/ago5048/SRA268/blob/master/Team_Project_1.ipynb\" target=\"_parent\"><img src=\"https://colab.research.google.com/assets/colab-badge.svg\" alt=\"Open In Colab\"/></a>"
      ]
    },
    {
      "cell_type": "markdown",
      "metadata": {
        "id": "Z6LQsJBU1vHd",
        "colab_type": "text"
      },
      "source": [
        "## Title: Total Snowfall in January, February, March, and April in 2018"
      ]
    },
    {
      "cell_type": "markdown",
      "metadata": {
        "id": "kW6Cbvo82Sys",
        "colab_type": "text"
      },
      "source": [
        "#### Creators\n",
        "\n",
        "\n",
        "*   Abby Orth\n",
        "*   Avery Jones\n",
        "*   Grace Newell\n",
        "*   Aryana Dadpay \n"
      ]
    },
    {
      "cell_type": "markdown",
      "metadata": {
        "id": "cixXSM4I12Yw",
        "colab_type": "text"
      },
      "source": [
        "### Original Project (Lab Assignment 1)"
      ]
    },
    {
      "cell_type": "markdown",
      "metadata": {
        "id": "3Xny9mL615LM",
        "colab_type": "text"
      },
      "source": [
        "**Write-up of original project (Lab Assignment 1):**\n",
        "During the first lab assignment, one of our team members collected data provided by NOAA to analyze the amount of snowfall in State College, PA in 2018 during the months of January, February, March, and April.  January had a total of 5 inches, February had 9.7, March had 6.9, and April had 5.6. Using this data, she hoped to compare it to the snowfall that we have received thus far in 2020 in order to predict how much snow we might receive throughout the rest of this Spring semester.\n",
        "\n",
        "\n",
        "\n",
        "\n",
        "\n",
        "\n",
        "\n",
        "\n",
        "\n",
        "\n"
      ]
    },
    {
      "cell_type": "markdown",
      "metadata": {
        "id": "cQSlrfVW19HW",
        "colab_type": "text"
      },
      "source": [
        "**Image of Lab Assignment 1:**\n",
        "\n",
        "\n",
        "\n",
        "\n",
        "\n",
        "\n",
        "\n",
        "> ![alt text](https://raw.githubusercontent.com/aryanadadpay/Lab-1/master/Snow%20in%20State%20College%20Jan-April%202018/Screen%20Shot%202020-01-24%20at%208.10.15%20PM.png)\n",
        "\n",
        "\n",
        "\n",
        "\n",
        "\n",
        "\n",
        "\n"
      ]
    },
    {
      "cell_type": "markdown",
      "metadata": {
        "id": "NEQgzUl32GVZ",
        "colab_type": "text"
      },
      "source": [
        "**Conclusion of original project (Lab Assignment 1):**\n",
        "\n",
        "After graphing and analyzing the data, I can conclude that peak snowfall occurred in February and decreased in the following months. The lowest amount of snowfall occurred in January, drastically increased in February, and steadily lowered from February to March, and March to April. This data is similar to the snowfall that we are starting to see this year- even though it is just January, we know that there has been very little snowfall this month, but it is predicted to snow more in February. \n",
        "\n",
        "\n"
      ]
    },
    {
      "cell_type": "markdown",
      "metadata": {
        "id": "ROM_QFLo2KyH",
        "colab_type": "text"
      },
      "source": [
        "### Team Project 1"
      ]
    },
    {
      "cell_type": "markdown",
      "metadata": {
        "id": "Q5t3T7W-Hki8",
        "colab_type": "text"
      },
      "source": [
        "Team 12 worked together using an idea of one of our teammates in Lab 1 to reorganize data into 3 different plots to represent the \"good, bad and ugly\". We took NOAA data from 2018 to visualize the total snow fall throughout the months of January, February, March, and April. The first graph will be an accurate and visually appealing representation of the data, followed by a misleading plot, ending with a visually ugly depiction. Perhaps by plotting the total snowfall of each month in 2018, we can predict the total snowfall each month this year in 2020. "
      ]
    },
    {
      "cell_type": "markdown",
      "metadata": {
        "id": "YBMMWB2oHrRB",
        "colab_type": "text"
      },
      "source": [
        "####**The Good**"
      ]
    },
    {
      "cell_type": "markdown",
      "metadata": {
        "id": "gl5ArODuoYSV",
        "colab_type": "text"
      },
      "source": [
        "![alt text](https://raw.githubusercontent.com/azj45/SRA268-Spring2020/master/images/Screen%20Shot%202020-01-31%20at%209.51.36%20AM.png)"
      ]
    },
    {
      "cell_type": "markdown",
      "metadata": {
        "id": "ITlYgwM6Ht8K",
        "colab_type": "text"
      },
      "source": [
        "This graph accuarately represents the data of the amount of snow. There are labels for the months, total amount of snow, and the numbers go up one at a time. This helps to show what the actual data is and the viewer would be able to understand that it is shown to represent a decimal amount. At first glance, the different height bars easily show which months had the least or most amount of snow fall without analyzing the graph farther. The bars have a good amount of space between them so that they are easy to understand and look at. This graph represents a \"good\" depiction of the data. "
      ]
    },
    {
      "cell_type": "markdown",
      "metadata": {
        "id": "vZ__tY4XINir",
        "colab_type": "text"
      },
      "source": [
        "####**The Bad**"
      ]
    },
    {
      "cell_type": "markdown",
      "metadata": {
        "id": "WyZpOp8THIhK",
        "colab_type": "text"
      },
      "source": [
        "![alt text](https://nbviewer.jupyter.org/github/newellg8/SRA268-Spring2020/blob/master/images/Screen%20Shot%202020-01-31%20at%209.51.23%20AM.png)"
      ]
    },
    {
      "cell_type": "markdown",
      "metadata": {
        "id": "DszQ1tGVIRQq",
        "colab_type": "text"
      },
      "source": [
        "This graph depicts a \"bad\" representation of the data. Although this graph has accurate data, it is very hard to understand and look at. The bars are horizontal instead of vertical and the number system only shows 0, 5 and 10, making it hard to see the exact amount of snow. Some of the amounts of snow include decimals and this graph does a bad job of showing them. The 0 and 10 are also separated by a line that makes them look close together and can mislead you to think it looks like a \"100\". Also, since the bars are horizontal and very close together, they can be misleading to look at. Having the month labels be above the bars and the total amount of snow label below the bars can also be strange to look at and confuse the viewer. This graph is a misleading representation of the data. "
      ]
    },
    {
      "cell_type": "markdown",
      "metadata": {
        "id": "NnaYvuAIIkPV",
        "colab_type": "text"
      },
      "source": [
        "####**The Ugly**"
      ]
    },
    {
      "cell_type": "markdown",
      "metadata": {
        "id": "iVaPPMQLpbhr",
        "colab_type": "text"
      },
      "source": [
        "![alt text](https://raw.githubusercontent.com/azj45/SRA268-Spring2020/master/images/Screen%20Shot%202020-01-31%20at%209.52.34%20AM.png)"
      ]
    },
    {
      "cell_type": "markdown",
      "metadata": {
        "id": "MjmwGWTlIlOi",
        "colab_type": "text"
      },
      "source": [
        "Although technically accurate, the visual encoding of the data in the image above has no logical order and is considered to be \"ugly\". The goal of the project was to represent data collected from the total snowfall over the months of January, February, March, and April in 2018. A larger circle represents a larger snowfall, yet the circles shown do not appear to have any logical order. Rather than place them in the order of months of total snowfall, they are randomly placed throughout the space. There is no logial way to see how much each snowfall each cirlce represents. There are no numbers that corespond to the size of the circles and no labels for the amount of snowfall. If you were to look at this graph with no background information, you would not eaily be able to see what the graph represents. This graph is unpleasant to look at and is not an accurate representation of the data. "
      ]
    }
  ]
}