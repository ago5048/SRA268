{
  "nbformat": 4,
  "nbformat_minor": 0,
  "metadata": {
    "colab": {
      "name": "Final Team Project.ipynb",
      "provenance": [],
      "include_colab_link": true
    },
    "kernelspec": {
      "name": "python3",
      "display_name": "Python 3"
    }
  },
  "cells": [
    {
      "cell_type": "markdown",
      "metadata": {
        "id": "view-in-github",
        "colab_type": "text"
      },
      "source": [
        "<a href=\"https://colab.research.google.com/github/ago5048/SRA268/blob/master/Final_Team_Project.ipynb\" target=\"_parent\"><img src=\"https://colab.research.google.com/assets/colab-badge.svg\" alt=\"Open In Colab\"/></a>"
      ]
    },
    {
      "cell_type": "markdown",
      "metadata": {
        "id": "Kw5PZBtl0Ob6",
        "colab_type": "text"
      },
      "source": [
        "# Unemployment Trends of Pennsylvania "
      ]
    },
    {
      "cell_type": "markdown",
      "metadata": {
        "id": "iXWAmSVB0Rno",
        "colab_type": "text"
      },
      "source": [
        "Contributors:\n",
        "\n",
        "\n",
        "*   Avery Jones \n",
        "*   Grace Newell\n",
        "*   Abby Orth \n",
        "*   Aryana Dadpay \n",
        "\n",
        "\n"
      ]
    },
    {
      "cell_type": "markdown",
      "metadata": {
        "id": "WpaW-i5l0ZHn",
        "colab_type": "text"
      },
      "source": [
        "## Background"
      ]
    },
    {
      "cell_type": "markdown",
      "metadata": {
        "id": "E4VKsOvP0eev",
        "colab_type": "text"
      },
      "source": [
        "The unemployment rate is the percentage of people that are unemployed in the work force. Logically the lower the unemployment rates the better it is and means that more people are working and have the ability to work. However, in reality having a nonexistent unemployment rate will most likely never happen, due to circumstances such as a fluctuating economy and growing population rates, but it is still important to keep the unemployment rate as low as we can in order to ensure a growing economy and a larger work force. By looking at an unemployment rate, a person is able to identify relations and patterns that occur within the unemployment rate and allow events cause changes to be noticed. It is valuable to recognize the importance of the unemployment rate when being used to represent a country or even a state. In the United States the unemployment rate is constantly changing, but the changes in each state’s unemployment rate is different. However, in Pennsylvania the unemployment rate from 2010 to present day in 2020 has changed pretty consistently through out the year. In the economy there are changes that can cause the whole country, and more specifically Pennsylvania, to have drastic changes and spikes in the unemployment rate. In Pennsylvania, the unemployment rate represents that state as an entirety, and with our data it includes how it changes and grows or diminishes each month. While the changes each month will not be perfectly consistent, there will be trends represented and patterns that are noticeable. \n",
        "\n",
        "\n"
      ]
    },
    {
      "cell_type": "markdown",
      "metadata": {
        "id": "7d8vfcGufV0_",
        "colab_type": "text"
      },
      "source": [
        "### Goal"
      ]
    },
    {
      "cell_type": "markdown",
      "metadata": {
        "id": "e1jKSGTjfY2H",
        "colab_type": "text"
      },
      "source": [
        "By analyzing data from January 2010 to March 2020, we hope to notice trends and patterns within the unemployment rate, that allow for interpretations and predictions about what is to come in the future for the unemployment rate. "
      ]
    },
    {
      "cell_type": "markdown",
      "metadata": {
        "id": "GOxy_TvCfi54",
        "colab_type": "text"
      },
      "source": [
        "### Assumptions"
      ]
    },
    {
      "cell_type": "markdown",
      "metadata": {
        "id": "cw1v_1MMfnAR",
        "colab_type": "text"
      },
      "source": [
        "There are 10 assumptions that we used for our data model:\n",
        "\n",
        "\n",
        "*   Job commute/travel\n",
        "*   Hiring freezes\n",
        "*   Economic impact\n",
        "*   Worker unions\n",
        "*   Recessions\n",
        "*   Dept. of Labor Insurance programs\n",
        "*   Compensation\n",
        "*   Temporary assistance\n",
        "*   Bankruptcy\n",
        "*   Welfare\n",
        "\n"
      ]
    },
    {
      "cell_type": "markdown",
      "metadata": {
        "id": "jKGILpu7gWr6",
        "colab_type": "text"
      },
      "source": [
        "### Data Sources"
      ]
    },
    {
      "cell_type": "markdown",
      "metadata": {
        "id": "uwCao7AtgbNn",
        "colab_type": "text"
      },
      "source": [
        "\n",
        "\n",
        "Our group used U.S. Bureau of Labor Statistics and United States Department of Labor Employment & Training Administration. We selected these sources because they were able to provide unemployment data based on the past 10 years. Both websites allowed us to choose specific states and years. The United States Department of Labor website provided entries 3-4 times each month while the U.S. Bureau of Labor statistics provided entries one time each month. The United States Department of Labor website gave us additional information such as additional claims, continued claims, and covered employment. While we thought this information was interesting, we decided that it was more useful to only show the unemployment rate data. The U.S. Bureau of Labor Statistics website allowed us to create a customized table that included a specific state, area of the state (statewide, metropolitan areas, etc.), measure (unemployment, labor force, etc.), and the option of seasonally adjusted. These options allowed us to generate a dataset that was ideal for the graph we wanted to create. We decided to use the Bureau of Labor statics website because we thought it would be easier to create, read, and understand the graph in tableau. We did not join our sources together because we believed there would be too much information on the graph that would take away focus from our main point of unemployment rates in Pennsylvania for the past 10 years. We also thought it would be interesting to see the unemployment rates in PA for every 3 months in the past 10 years. This allows us to see a shortened version of our main graph so that we can better understand the trends.  "
      ]
    },
    {
      "cell_type": "markdown",
      "metadata": {
        "id": "kDgSdoQUgg2Z",
        "colab_type": "text"
      },
      "source": [
        "#### Sources"
      ]
    },
    {
      "cell_type": "markdown",
      "metadata": {
        "id": "dFzYIi0Agi2_",
        "colab_type": "text"
      },
      "source": [
        "https://data.bls.gov/cgi-bin/dsrv?la\n",
        "42 Pennsylvania, A Statewide, ST4200000000000 Pennsylvania, 03 unemployment rate, Not seasonally adjusted, Retrieve Data\n",
        "\n",
        "https://oui.doleta.gov/unemploy/claims.asp\n",
        "State, Beginning Year: 2010, Ending Year: 2020, Submit\n"
      ]
    },
    {
      "cell_type": "markdown",
      "metadata": {
        "id": "qcFak2v7g3jt",
        "colab_type": "text"
      },
      "source": [
        "## Dashboard (5)"
      ]
    },
    {
      "cell_type": "code",
      "metadata": {
        "id": "ABto5jctGFGj",
        "colab_type": "code",
        "outputId": "73e5472d-2f8a-4986-a1a2-bdf2be4dcd8a",
        "colab": {
          "base_uri": "https://localhost:8080/",
          "height": 895
        }
      },
      "source": [
        "import IPython\n",
        "IPython.display.HTML(\"<div class='tableauPlaceholder' id='viz1587925805492' style='position: relative'><noscript><a href='#'><img alt=' ' src='https:&#47;&#47;public.tableau.com&#47;static&#47;images&#47;Gr&#47;Group_15879257683190&#47;Sheet1&#47;1_rss.png' style='border: none' /></a></noscript><object class='tableauViz'  style='display:none;'><param name='host_url' value='https%3A%2F%2Fpublic.tableau.com%2F' /> <param name='embed_code_version' value='3' /> <param name='site_root' value='' /><param name='name' value='Group_15879257683190&#47;Sheet1' /><param name='tabs' value='no' /><param name='toolbar' value='yes' /><param name='static_image' value='https:&#47;&#47;public.tableau.com&#47;static&#47;images&#47;Gr&#47;Group_15879257683190&#47;Sheet1&#47;1.png' /> <param name='animate_transition' value='yes' /><param name='display_static_image' value='yes' /><param name='display_spinner' value='yes' /><param name='display_overlay' value='yes' /><param name='display_count' value='yes' /><param name='filter' value='publish=yes' /></object></div>                <script type='text/javascript'>                    var divElement = document.getElementById('viz1587925805492');                    var vizElement = divElement.getElementsByTagName('object')[0];                    vizElement.style.width='100%';vizElement.style.height=(divElement.offsetWidth*0.75)+'px';                    var scriptElement = document.createElement('script');                    scriptElement.src = 'https://public.tableau.com/javascripts/api/viz_v1.js';                    vizElement.parentNode.insertBefore(scriptElement, vizElement);                </script>\")"
      ],
      "execution_count": 0,
      "outputs": [
        {
          "output_type": "execute_result",
          "data": {
            "text/html": [
              "<div class='tableauPlaceholder' id='viz1587925805492' style='position: relative'><noscript><a href='#'><img alt=' ' src='https:&#47;&#47;public.tableau.com&#47;static&#47;images&#47;Gr&#47;Group_15879257683190&#47;Sheet1&#47;1_rss.png' style='border: none' /></a></noscript><object class='tableauViz'  style='display:none;'><param name='host_url' value='https%3A%2F%2Fpublic.tableau.com%2F' /> <param name='embed_code_version' value='3' /> <param name='site_root' value='' /><param name='name' value='Group_15879257683190&#47;Sheet1' /><param name='tabs' value='no' /><param name='toolbar' value='yes' /><param name='static_image' value='https:&#47;&#47;public.tableau.com&#47;static&#47;images&#47;Gr&#47;Group_15879257683190&#47;Sheet1&#47;1.png' /> <param name='animate_transition' value='yes' /><param name='display_static_image' value='yes' /><param name='display_spinner' value='yes' /><param name='display_overlay' value='yes' /><param name='display_count' value='yes' /><param name='filter' value='publish=yes' /></object></div>                <script type='text/javascript'>                    var divElement = document.getElementById('viz1587925805492');                    var vizElement = divElement.getElementsByTagName('object')[0];                    vizElement.style.width='100%';vizElement.style.height=(divElement.offsetWidth*0.75)+'px';                    var scriptElement = document.createElement('script');                    scriptElement.src = 'https://public.tableau.com/javascripts/api/viz_v1.js';                    vizElement.parentNode.insertBefore(scriptElement, vizElement);                </script>"
            ],
            "text/plain": [
              "<IPython.core.display.HTML object>"
            ]
          },
          "metadata": {
            "tags": []
          },
          "execution_count": 4
        }
      ]
    },
    {
      "cell_type": "code",
      "metadata": {
        "id": "knG79vNP0Q0u",
        "colab_type": "code",
        "outputId": "01d50626-a22a-4ec5-df19-b715473202bf",
        "colab": {
          "base_uri": "https://localhost:8080/",
          "height": 895
        }
      },
      "source": [
        "import IPython\n",
        "IPython.display.HTML(\"<div class='tableauPlaceholder' id='viz1587931712668' style='position: relative'><noscript><a href='#'><img alt=' ' src='https:&#47;&#47;public.tableau.com&#47;static&#47;images&#47;XN&#47;XNNQRH4KP&#47;1_rss.png' style='border: none' /></a></noscript><object class='tableauViz'  style='display:none;'><param name='host_url' value='https%3A%2F%2Fpublic.tableau.com%2F' /> <param name='embed_code_version' value='3' /> <param name='path' value='shared&#47;XNNQRH4KP' /> <param name='toolbar' value='yes' /><param name='static_image' value='https:&#47;&#47;public.tableau.com&#47;static&#47;images&#47;XN&#47;XNNQRH4KP&#47;1.png' /> <param name='animate_transition' value='yes' /><param name='display_static_image' value='yes' /><param name='display_spinner' value='yes' /><param name='display_overlay' value='yes' /><param name='display_count' value='yes' /><param name='filter' value='publish=yes' /></object></div>                <script type='text/javascript'>                    var divElement = document.getElementById('viz1587931712668');                    var vizElement = divElement.getElementsByTagName('object')[0];                    vizElement.style.width='100%';vizElement.style.height=(divElement.offsetWidth*0.75)+'px';                    var scriptElement = document.createElement('script');                    scriptElement.src = 'https://public.tableau.com/javascripts/api/viz_v1.js';                    vizElement.parentNode.insertBefore(scriptElement, vizElement);                </script>\")\n"
      ],
      "execution_count": 0,
      "outputs": [
        {
          "output_type": "execute_result",
          "data": {
            "text/html": [
              "<div class='tableauPlaceholder' id='viz1587931712668' style='position: relative'><noscript><a href='#'><img alt=' ' src='https:&#47;&#47;public.tableau.com&#47;static&#47;images&#47;XN&#47;XNNQRH4KP&#47;1_rss.png' style='border: none' /></a></noscript><object class='tableauViz'  style='display:none;'><param name='host_url' value='https%3A%2F%2Fpublic.tableau.com%2F' /> <param name='embed_code_version' value='3' /> <param name='path' value='shared&#47;XNNQRH4KP' /> <param name='toolbar' value='yes' /><param name='static_image' value='https:&#47;&#47;public.tableau.com&#47;static&#47;images&#47;XN&#47;XNNQRH4KP&#47;1.png' /> <param name='animate_transition' value='yes' /><param name='display_static_image' value='yes' /><param name='display_spinner' value='yes' /><param name='display_overlay' value='yes' /><param name='display_count' value='yes' /><param name='filter' value='publish=yes' /></object></div>                <script type='text/javascript'>                    var divElement = document.getElementById('viz1587931712668');                    var vizElement = divElement.getElementsByTagName('object')[0];                    vizElement.style.width='100%';vizElement.style.height=(divElement.offsetWidth*0.75)+'px';                    var scriptElement = document.createElement('script');                    scriptElement.src = 'https://public.tableau.com/javascripts/api/viz_v1.js';                    vizElement.parentNode.insertBefore(scriptElement, vizElement);                </script>"
            ],
            "text/plain": [
              "<IPython.core.display.HTML object>"
            ]
          },
          "metadata": {
            "tags": []
          },
          "execution_count": 7
        }
      ]
    },
    {
      "cell_type": "markdown",
      "metadata": {
        "id": "SvWfnlDjnos1",
        "colab_type": "text"
      },
      "source": [
        "## Conclusion"
      ]
    },
    {
      "cell_type": "markdown",
      "metadata": {
        "id": "rfWefr2gnxOG",
        "colab_type": "text"
      },
      "source": [
        "The original goal of our project was to use the data we collected to observe trends about the unemployment rate within the state of Pennsylvania over the past ten years to allow us to make predictions about future unemployment rates and trends. Obviously due to COVID-19 there will be drastically different number than if the global pandemic did not occur, but that is what is interesting about the analyzing this data- it allows us to figure out why certain trends occur and make predictions about what might happen in the future. For example, 2009 is the first year that our data represents. The high unemployment rate within that year accounts for the Great Recession that occurred throughout 2008. As the unemployment decreases, it is easy to assume that the Great Recession has ended and the economy is getting back under control. Likewise, our group can predict that the data for future months of 2020 and perhaps some of 2021 will reflect a drastically higher unemployment rate due to the amount of jobs that have been lost through COVID-19. \n",
        "\n",
        "In the first sheet, our data is color-coded by month to reflect the changes in unemployment rate throughout the past ten years each month. Separating the data out by month allows our group to notice trends that might not be obvious from year-to-year, but are instead reflect by month. For example, with this recent COVID-19 pandemic, it might not be obvious to an unaware individual why the year 2020 has a higher unemployment rate than normal. But when we separate out the data by month the individual can look back in history and realize that COVID-19 began to seriously impact Pennsyvania in late March, which is why March is when there begins to be a higher unemployment rate. The second sheet, which depicts that averaged unemployment rate over three months for the past ten years, provides a general summary of the data. This sheet is best for providing an overview of the past ten years rather than looking for specific trends or events that may have occured over a shorter span of time. \n",
        "\n",
        "Overall, our group was able to compile our two data sources into visuals that allowed us to easily spot and predict future trends among the unemployment rate data, which aligns with our goal for the project. It will be very interesting to see how drastic of an effect that COVID-19 has on the Pennsylvania unemployment rate over the next few months. Taking in all of the assumptions that we made in order to produce our data models, we are sure that the future trends in our data will continue to reflect an increase in the unemployment rate.  Economists and other indivdiuals who need to analyze the unemployment rate should use data visuals similar to ours to understand trends that occur over the years. \n",
        "\n"
      ]
    }
  ]
}