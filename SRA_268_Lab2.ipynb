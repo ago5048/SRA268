{
  "nbformat": 4,
  "nbformat_minor": 0,
  "metadata": {
    "colab": {
      "name": "SRA 268 Lab2.ipynb",
      "provenance": [],
      "include_colab_link": true
    },
    "kernelspec": {
      "name": "python3",
      "display_name": "Python 3"
    }
  },
  "cells": [
    {
      "cell_type": "markdown",
      "metadata": {
        "id": "view-in-github",
        "colab_type": "text"
      },
      "source": [
        "<a href=\"https://colab.research.google.com/github/ago5048/SRA268/blob/master/SRA_268_Lab2.ipynb\" target=\"_parent\"><img src=\"https://colab.research.google.com/assets/colab-badge.svg\" alt=\"Open In Colab\"/></a>"
      ]
    },
    {
      "cell_type": "markdown",
      "metadata": {
        "id": "6sOc4Uyr4U-Z",
        "colab_type": "text"
      },
      "source": [
        "## Graph Types"
      ]
    },
    {
      "cell_type": "markdown",
      "metadata": {
        "id": "0zZdVLAd5CYr",
        "colab_type": "text"
      },
      "source": [
        "Creator\n",
        "* Abby Orth"
      ]
    },
    {
      "cell_type": "markdown",
      "metadata": {
        "id": "g-r6Clq45Hn4",
        "colab_type": "text"
      },
      "source": [
        "### Deviation\n"
      ]
    },
    {
      "cell_type": "markdown",
      "metadata": {
        "id": "2gorxo6E7A0t",
        "colab_type": "text"
      },
      "source": [
        "![alt text](https://raw.githubusercontent.com/ago5048/SRA268/master/images/lab2%20deviation.png)"
      ]
    },
    {
      "cell_type": "markdown",
      "metadata": {
        "id": "w6bZ_NEi7E3w",
        "colab_type": "text"
      },
      "source": [
        "#### What is this telling us?"
      ]
    },
    {
      "cell_type": "markdown",
      "metadata": {
        "id": "95L-spaC7QHF",
        "colab_type": "text"
      },
      "source": [
        "This deviation plot is a spine chart split each day of the week between the number of points that teams lose by verses the number of points that teams win by. This makes sense because in most March madness games I'm sure the point difference is relatively small. This data also helps visualize the high-stake games that have a lot of points of the line. Judging from the data, the biggest wins and losses occur on Thursday, followed by Friday and Saturday. Wednesday appears to typically has the lowest- stake games, followed closely by Tuesday and Monday. "
      ]
    },
    {
      "cell_type": "markdown",
      "metadata": {
        "id": "YgXyXjmz7cDP",
        "colab_type": "text"
      },
      "source": [
        "### Correlation\n"
      ]
    },
    {
      "cell_type": "markdown",
      "metadata": {
        "id": "SGx15rZq7hvt",
        "colab_type": "text"
      },
      "source": [
        "![alt text](https://raw.githubusercontent.com/ago5048/SRA268/master/images/lab2%20scatterplot.png)"
      ]
    },
    {
      "cell_type": "markdown",
      "metadata": {
        "id": "dljjONNi7jmj",
        "colab_type": "text"
      },
      "source": [
        "#### What is this telling us?"
      ]
    },
    {
      "cell_type": "markdown",
      "metadata": {
        "id": "PwZEZrFB7laG",
        "colab_type": "text"
      },
      "source": [
        "This correlation plot is a scatterplot that compares the total amount of winning points to each season that the data has recorded. Aside from the first season in 1985, most of the data falls around the same point value. However, there is another spike in points during the later part of the data in 2017. The difference between the 1985 data and the 2017 data is more than 1000 points, which causes us to assume that the skill level of the March madness athletes has increased as well. Those who win March madness are scoring more points, and that trend might continue to increase. "
      ]
    },
    {
      "cell_type": "markdown",
      "metadata": {
        "id": "MqUdI-uL7r2s",
        "colab_type": "text"
      },
      "source": [
        "### Ranking\n"
      ]
    },
    {
      "cell_type": "markdown",
      "metadata": {
        "id": "AvlxCOVt7x9F",
        "colab_type": "text"
      },
      "source": [
        "![alt text](https://raw.githubusercontent.com/ago5048/SRA268/master/images/lab2%20ranking.png)"
      ]
    },
    {
      "cell_type": "markdown",
      "metadata": {
        "id": "lCAYtfza7yTq",
        "colab_type": "text"
      },
      "source": [
        "#### What is this telling us?"
      ]
    },
    {
      "cell_type": "markdown",
      "metadata": {
        "id": "MyuciD277ygU",
        "colab_type": "text"
      },
      "source": [
        "This ranking plot is an ordered bar chart telling us the number of times that each region (W, X, Y, Z) has won March madness. Judging by the data, regions Y and Z are tied for the highest number of times they have won with 39 seasons, followed by region W at 35 wins and region X at 33 wins. The bar chart is organized in 2 specific ways to make it obvious who is ranked higher. First, the data is organized as an ordered bar chart so that the wins are descending in order. Second, the bar chart is colored to emphasize the ranking of the teams- a lighter colored bar represents less wins, whereas a darker bar has a larger amount of wins. "
      ]
    },
    {
      "cell_type": "markdown",
      "metadata": {
        "id": "dGDGl8-G7y8Y",
        "colab_type": "text"
      },
      "source": [
        "### Distribution\n"
      ]
    },
    {
      "cell_type": "markdown",
      "metadata": {
        "id": "FB0uV-jy76p9",
        "colab_type": "text"
      },
      "source": [
        "![alt text](https://raw.githubusercontent.com/ago5048/SRA268/master/images/lab2-%20box%20n%20whisker.png)"
      ]
    },
    {
      "cell_type": "markdown",
      "metadata": {
        "id": "_6SOzhrQ76zH",
        "colab_type": "text"
      },
      "source": [
        "#### What is this telling us?"
      ]
    },
    {
      "cell_type": "markdown",
      "metadata": {
        "id": "HBWqsS_g767h",
        "colab_type": "text"
      },
      "source": [
        "This distribution plot is a box a whisker chart that shows the median and range of the data. The days of the week are compared to the number of winning points, allowing the outliers to be seen. It is evident that there is an outlier in the upper limit, and that the median of the data is towards the bottom of the chart. This visualization of the data is interesting because it shows where the vast majority of the total points actually fall and allows for outliers to be easily seen. "
      ]
    },
    {
      "cell_type": "markdown",
      "metadata": {
        "id": "wQsDThk677Fy",
        "colab_type": "text"
      },
      "source": [
        "### Change over Time\n",
        "\n",
        "\n",
        "\n"
      ]
    },
    {
      "cell_type": "markdown",
      "metadata": {
        "id": "Z1j_YLOA7_OK",
        "colab_type": "text"
      },
      "source": [
        "![alt text](https://raw.githubusercontent.com/ago5048/SRA268/master/images/lab2%20change%20over%20time.png)"
      ]
    },
    {
      "cell_type": "markdown",
      "metadata": {
        "id": "mpfsmmgi7_Vj",
        "colab_type": "text"
      },
      "source": [
        "#### What is this telling us?"
      ]
    },
    {
      "cell_type": "markdown",
      "metadata": {
        "id": "rYLXoMMO7_di",
        "colab_type": "text"
      },
      "source": [
        "This change over time plot is a line graph representing the total amount of winning points scored per season, over the course of the past 32 seasons. It is interesting to see how the winning points have fluctuated throughout the years. When the data began to be recorded in 1985, the total points scored by the winning team was at 4,287 points. However, in 2017 at the end of the data recorded, the total amount of winning points reached 5,322- more than 1,000 more points than the data started with. Aside from the first few seasons, the winning points remained relatively consistant with each other. Perhaps in future years when the skill level continues to increase, the points will increase as well. "
      ]
    },
    {
      "cell_type": "markdown",
      "metadata": {
        "id": "lFwiHoE-7_jZ",
        "colab_type": "text"
      },
      "source": [
        "### Magnitude\n"
      ]
    },
    {
      "cell_type": "markdown",
      "metadata": {
        "id": "ICQFnXj78EbF",
        "colab_type": "text"
      },
      "source": [
        "![alt text](https://raw.githubusercontent.com/ago5048/SRA268/master/images/lab2%20magnitude.png)"
      ]
    },
    {
      "cell_type": "markdown",
      "metadata": {
        "id": "QGG7XYG88Eii",
        "colab_type": "text"
      },
      "source": [
        "#### What is this telling us?"
      ]
    },
    {
      "cell_type": "markdown",
      "metadata": {
        "id": "VS7uGa0l8Eos",
        "colab_type": "text"
      },
      "source": [
        "This magnitude plot is a column bar chart representing the number of winning points scored, totaled from all seasons recorded, compared to each day of the week. This visual comparison allows us to understand which day of the week corresponds to the highest amount of points in games. As seen on the chart, Wednesday has the lowest amount of points whereas Thursday has the highest. Friday falls into a close second place, but then Saturday and Sunday are both drastically less. Monday and Tuesday have even more drastically less points than games on Sunday did. This data is very interesting because it allows us to understand which days of the week the higher scoring games fall on. Similar to how students may not perform as well at the beginning of the week due to exhaustion, athletes during March madness appear to reflect the same trend as well. However, these drastic differences could also be a result of less games falling on the days at the beginning of the week. "
      ]
    },
    {
      "cell_type": "markdown",
      "metadata": {
        "id": "bEKFxP8R8Evk",
        "colab_type": "text"
      },
      "source": [
        "### Part-to-Whole\n"
      ]
    },
    {
      "cell_type": "markdown",
      "metadata": {
        "id": "WFHlcYKV8E35",
        "colab_type": "text"
      },
      "source": [
        "![alt text](https://raw.githubusercontent.com/ago5048/SRA268/master/images/lab2%20part%20to%20whole.png)"
      ]
    },
    {
      "cell_type": "markdown",
      "metadata": {
        "id": "PNSd3wlp8UZH",
        "colab_type": "text"
      },
      "source": [
        "#### What is this telling us?"
      ]
    },
    {
      "cell_type": "markdown",
      "metadata": {
        "id": "y9tb_QRA8aqt",
        "colab_type": "text"
      },
      "source": [
        "This part-to-whole plot is a pie chart visualizing the number of times that each region has won March madness. The data is represented in descending order going clockwise, with regions Y and Z leading with 39 wins over the years, followed by region W with 35 wins and region X with 33 wins. Visualizing the number of wins in a pie chart is beneficial because it provides an immediate summary without having to analyze the data to figure out the distribution of wins. In addition, I added the exact number of wins that each region has had to the outside of each section in order to accurately compare the size of each segments. \n",
        "\n",
        "\n"
      ]
    }
  ]
}